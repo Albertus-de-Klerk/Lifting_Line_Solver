{
 "cells": [
  {
   "cell_type": "code",
   "execution_count": 8,
   "id": "2974678b-8ad7-4a03-85f4-e06adc89b81e",
   "metadata": {
    "tags": []
   },
   "outputs": [],
   "source": [
    "import numpy as np\n",
    "import matplotlib.pyplot as plt\n",
    "import math\n",
    "import ctypes as ct\n",
    "import scipy.interpolate\n",
    "from aerofiles.igc import Reader\n",
    "import jxfoil\n",
    "\n",
    "\n",
    "\n",
    "#import plotly.graph_objects as go\n",
    "\n",
    "import pandas as pd\n",
    "\n",
    "from datetime import datetime\n",
    "\n"
   ]
  },
  {
   "cell_type": "code",
   "execution_count": 4,
   "id": "af4761b2-e416-4abf-8b7f-bb0fa21488f2",
   "metadata": {
    "tags": []
   },
   "outputs": [],
   "source": [
    "# Function to read airfoil data at each station\n",
    "\n",
    "def GetAirfoilData(Filename):\n",
    "    with open(Filename, 'r') as infile:\n",
    "        AirfoilData = np.loadtxt(infile, dtype=str, skiprows=0, unpack=True)\n",
    "    \n",
    "    return AirfoilData"
   ]
  },
  {
   "cell_type": "code",
   "execution_count": 5,
   "id": "809111f8-0758-4177-931f-773589fb341e",
   "metadata": {
    "tags": []
   },
   "outputs": [],
   "source": [
    "# Function to read wing geometry\n",
    "\n",
    "def GetWingData(Filename):\n",
    "    with open(Filename, 'r') as infile:\n",
    "        WingData = np.loadtxt(infile, dtype=float, skiprows=0, unpack=True)\n",
    "    area = 0\n",
    "    span = 0\n",
    "    \n",
    "    for i in range(0,len(WingData[0]),1):\n",
    "        span = span + WingData[2][i]\n",
    "        area = area + ((WingData[0][i] + WingData[1][i])/2)*WingData[2][i]\n",
    "    \n",
    "    AR = 2*(span**2)/area\n",
    "    \n",
    "    return area, span,AR,WingData\n",
    "    \n",
    "\n"
   ]
  },
  {
   "cell_type": "code",
   "execution_count": 6,
   "id": "4170e42f-3b8e-45ba-8a94-a844f4e378ec",
   "metadata": {
    "tags": []
   },
   "outputs": [],
   "source": [
    "def CallXfoilcl(Cl, Re, AirfoilName, Flap):\n",
    "\n",
    "    mydll = ct.cdll.LoadLibrary('./XFOIL.dll');\n",
    "    ISCONV = ct.c_bool(False)\n",
    "    RE_IN = ct.c_double(Re)\n",
    "    CL_IN = ct.c_double(Cl)\n",
    "    array = (ct.c_double * 11) (0,0,0,0,0,0,0,Flap,0.86,-0.008,0)\n",
    "\n",
    "\n",
    "    my_string = AirfoilName.encode() # Convert string to bytes\n",
    "\n",
    "    _= mydll.xfoil_cl(ct.byref(array), ct.byref(CL_IN),ct.byref(RE_IN),ct.byref(ISCONV),ct.c_char_p(my_string));\n",
    "\n",
    "            # Array1(1) = ADEG\n",
    "            # Array1(2) = CD\n",
    "            # Array1(3) = CDF\n",
    "            # Array1(4) = CM\n",
    "            # Array1(5) = HMOM\n",
    "            # Array1(6) = HFX\n",
    "            # Array1(7) = HFY\n",
    "    if ISCONV.value is False:\n",
    "        print(AirfoilName, Re, Cl)\n",
    "        \n",
    "    #print(ISCONV.value)\n",
    "    return array[0],array[1],array[3]        \n",
    "                "
   ]
  },
  {
   "cell_type": "code",
   "execution_count": 12,
   "id": "ce131a47-8c04-4be7-8bc8-543bfbdd1635",
   "metadata": {
    "tags": []
   },
   "outputs": [
    {
     "name": "stdout",
     "output_type": "stream",
     "text": [
      "\n",
      " Default parameters read in from file  /home/deklerkalbertus/xfoil.def:\n",
      "\n",
      "\n",
      " Blunt trailing edge.  Gap =  0.00499\n",
      "Iteration for AIRFOILS/N13, Re=4108440.4695360535, Cl=1.2 did not converge. CD=0.013061835430562496\n",
      "Cd=0.013061835430562496  AOA=3.3801307678222656\n"
     ]
    }
   ],
   "source": [
    "# sample code\n",
    "\n",
    "rho = 1.225\n",
    "mu = 1.789e-5\n",
    "V_inf = 60  #[m/s]\n",
    "alpha = 5   # angle of attack (only for Lifting line solver) [deg]\n",
    "a = 2*np.pi  # lift curve slope\n",
    "Weight = 550*9.81  #[N]\n",
    "Bank_Angle = 0    #[deg]\n",
    "Flap = 5\n",
    "Pressure_altitude = 0  #[m]\n",
    "OAT = 15\n",
    "\n",
    "\n",
    "Re = rho*V_inf*1/mu\n",
    "    \n",
    "# call XFOIL DLL\n",
    "AOA, Cd,Cm,v = jxfoil.CallXfoilcl(1.2,Re,'AIRFOILS/N13',Flap,0,0);\n",
    "print(\"Cd=\" + str(Cd) + \"  \" + \"AOA=\" + str(AOA))\n"
   ]
  },
  {
   "cell_type": "code",
   "execution_count": 14,
   "id": "f0675038-0f35-456a-9a8c-307670bcfd37",
   "metadata": {
    "tags": []
   },
   "outputs": [
    {
     "ename": "FileNotFoundError",
     "evalue": "[Errno 2] No such file or directory: 'JS3_wing_18.dat'",
     "output_type": "error",
     "traceback": [
      "\u001b[0;31m---------------------------------------------------------------------------\u001b[0m",
      "\u001b[0;31mFileNotFoundError\u001b[0m                         Traceback (most recent call last)",
      "Cell \u001b[0;32mIn[14], line 3\u001b[0m\n\u001b[1;32m      1\u001b[0m \u001b[38;5;66;03m#SAMPLE CODE\u001b[39;00m\n\u001b[0;32m----> 3\u001b[0m Area,Span,AR, WingData \u001b[38;5;241m=\u001b[39m \u001b[43mGetWingData\u001b[49m\u001b[43m(\u001b[49m\u001b[38;5;124;43m\"\u001b[39;49m\u001b[38;5;124;43mJS3_wing_18.dat\u001b[39;49m\u001b[38;5;124;43m\"\u001b[39;49m\u001b[43m)\u001b[49m\n\u001b[1;32m      4\u001b[0m \u001b[38;5;28mprint\u001b[39m(WingData)\n\u001b[1;32m      5\u001b[0m \u001b[38;5;28mprint\u001b[39m(\u001b[38;5;124m\"\u001b[39m\u001b[38;5;124mNumber of panels => \u001b[39m\u001b[38;5;124m\"\u001b[39m \u001b[38;5;241m+\u001b[39m \u001b[38;5;28mstr\u001b[39m(WingData[\u001b[38;5;241m0\u001b[39m]\u001b[38;5;241m.\u001b[39msize))\n",
      "Cell \u001b[0;32mIn[5], line 4\u001b[0m, in \u001b[0;36mGetWingData\u001b[0;34m(Filename)\u001b[0m\n\u001b[1;32m      3\u001b[0m \u001b[38;5;28;01mdef\u001b[39;00m\u001b[38;5;250m \u001b[39m\u001b[38;5;21mGetWingData\u001b[39m(Filename):\n\u001b[0;32m----> 4\u001b[0m     \u001b[38;5;28;01mwith\u001b[39;00m \u001b[38;5;28;43mopen\u001b[39;49m\u001b[43m(\u001b[49m\u001b[43mFilename\u001b[49m\u001b[43m,\u001b[49m\u001b[43m \u001b[49m\u001b[38;5;124;43m'\u001b[39;49m\u001b[38;5;124;43mr\u001b[39;49m\u001b[38;5;124;43m'\u001b[39;49m\u001b[43m)\u001b[49m \u001b[38;5;28;01mas\u001b[39;00m infile:\n\u001b[1;32m      5\u001b[0m         WingData \u001b[38;5;241m=\u001b[39m np\u001b[38;5;241m.\u001b[39mloadtxt(infile, dtype\u001b[38;5;241m=\u001b[39m\u001b[38;5;28mfloat\u001b[39m, skiprows\u001b[38;5;241m=\u001b[39m\u001b[38;5;241m0\u001b[39m, unpack\u001b[38;5;241m=\u001b[39m\u001b[38;5;28;01mTrue\u001b[39;00m)\n\u001b[1;32m      6\u001b[0m     area \u001b[38;5;241m=\u001b[39m \u001b[38;5;241m0\u001b[39m\n",
      "File \u001b[0;32m~/.local/lib/python3.10/site-packages/IPython/core/interactiveshell.py:324\u001b[0m, in \u001b[0;36m_modified_open\u001b[0;34m(file, *args, **kwargs)\u001b[0m\n\u001b[1;32m    317\u001b[0m \u001b[38;5;28;01mif\u001b[39;00m file \u001b[38;5;129;01min\u001b[39;00m {\u001b[38;5;241m0\u001b[39m, \u001b[38;5;241m1\u001b[39m, \u001b[38;5;241m2\u001b[39m}:\n\u001b[1;32m    318\u001b[0m     \u001b[38;5;28;01mraise\u001b[39;00m \u001b[38;5;167;01mValueError\u001b[39;00m(\n\u001b[1;32m    319\u001b[0m         \u001b[38;5;124mf\u001b[39m\u001b[38;5;124m\"\u001b[39m\u001b[38;5;124mIPython won\u001b[39m\u001b[38;5;124m'\u001b[39m\u001b[38;5;124mt let you open fd=\u001b[39m\u001b[38;5;132;01m{\u001b[39;00mfile\u001b[38;5;132;01m}\u001b[39;00m\u001b[38;5;124m by default \u001b[39m\u001b[38;5;124m\"\u001b[39m\n\u001b[1;32m    320\u001b[0m         \u001b[38;5;124m\"\u001b[39m\u001b[38;5;124mas it is likely to crash IPython. If you know what you are doing, \u001b[39m\u001b[38;5;124m\"\u001b[39m\n\u001b[1;32m    321\u001b[0m         \u001b[38;5;124m\"\u001b[39m\u001b[38;5;124myou can use builtins\u001b[39m\u001b[38;5;124m'\u001b[39m\u001b[38;5;124m open.\u001b[39m\u001b[38;5;124m\"\u001b[39m\n\u001b[1;32m    322\u001b[0m     )\n\u001b[0;32m--> 324\u001b[0m \u001b[38;5;28;01mreturn\u001b[39;00m \u001b[43mio_open\u001b[49m\u001b[43m(\u001b[49m\u001b[43mfile\u001b[49m\u001b[43m,\u001b[49m\u001b[43m \u001b[49m\u001b[38;5;241;43m*\u001b[39;49m\u001b[43margs\u001b[49m\u001b[43m,\u001b[49m\u001b[43m \u001b[49m\u001b[38;5;241;43m*\u001b[39;49m\u001b[38;5;241;43m*\u001b[39;49m\u001b[43mkwargs\u001b[49m\u001b[43m)\u001b[49m\n",
      "\u001b[0;31mFileNotFoundError\u001b[0m: [Errno 2] No such file or directory: 'JS3_wing_18.dat'"
     ]
    }
   ],
   "source": [
    "#SAMPLE CODE\n",
    "\n",
    "Area,Span,AR, WingData = GetWingData(\"JS3_wing_18.dat\")\n",
    "print(WingData)\n",
    "print(\"Number of panels => \" + str(WingData[0].size))\n",
    "print(\"Aspect Ratio => \" + str(AR))\n",
    "print(\"Area => \" + str(Area*2))\n",
    "print(\"Span => \" + str(Span*2))\n",
    "#print(dir(WingData))"
   ]
  },
  {
   "cell_type": "code",
   "execution_count": null,
   "id": "83681c04-6200-4077-9803-ffa14010a0b0",
   "metadata": {
    "tags": []
   },
   "outputs": [],
   "source": [
    "#SAMPLE CODE\n",
    "\n",
    "AirfoilData  = GetAirfoilData(\"Airfoil_Data.dat\")\n",
    "print(AirfoilData)\n",
    "\n",
    "\n",
    "for i in range(0,len(AirfoilData[0]),1):\n",
    "    Re = rho*V_inf*float(AirfoilData[1][i])/mu\n",
    "    \n",
    "    # call XFOIL DLL\n",
    "    #AOA, Cd,Cm = CallXfoilcl(0,Re,AirfoilData[0][i],0)\n",
    "    \n",
    "    print(i+1,AirfoilData[1][i],Re,AOA, Cd, Cm)\n",
    "    "
   ]
  },
  {
   "cell_type": "code",
   "execution_count": 8,
   "id": "41decf18-ff61-41cb-a897-2ae4461879d2",
   "metadata": {
    "tags": []
   },
   "outputs": [],
   "source": [
    "# Function to divide wing into n sections, returns chord lengths array\n",
    "#NOT USED\n",
    "\n",
    "\n",
    "def WingDivide(WingData,n):\n",
    "    number_of_panels = WingData[0].size\n",
    "\n",
    "    #determine wing span from wing file\n",
    "    span = 0\n",
    "    if number_of_panels > 1:\n",
    "        for panel_length in WingData[5]:\n",
    "            span = span + panel_length \n",
    "    else:\n",
    "        span = WingData[5]\n",
    "        \n",
    "    #print(\"Wing span => \" + str(2*span))\n",
    "    \n",
    "    \n",
    "    # divide wing into n sections\n",
    "    chords = np.zeros(n, dtype=float)\n",
    "    current_panel = 0 \n",
    "    current_span_pos = WingData[5][0]\n",
    "    i = 0\n",
    "    for y_pos in np.linspace(0,span, n):\n",
    "           \n",
    "        if y_pos > current_span_pos:\n",
    "            current_panel = current_panel + 1\n",
    "            current_span_pos = current_span_pos + WingData[5][current_panel]\n",
    "        \n",
    "        chords[i] = ((WingData[0][current_panel] - WingData[1][current_panel]) / WingData[5][current_panel]) * (current_span_pos - y_pos) + WingData[1][current_panel]\n",
    "        i += 1\n",
    "    #print(np.stack((np.linspace(0,span,n),chords),axis=1))    \n",
    "    return(np.stack((np.linspace(0,span,n),chords),axis=1))\n",
    " \n",
    "    \n",
    "    "
   ]
  },
  {
   "cell_type": "code",
   "execution_count": 5,
   "id": "aaa830b3-efb8-40d6-9d9f-5050114034b1",
   "metadata": {
    "tags": []
   },
   "outputs": [],
   "source": [
    "def Get_Chord(WingData,y_pos):\n",
    "    chord = 0\n",
    "    number_of_panels = WingData[0].size\n",
    "\n",
    "    #determine wing span from wing file\n",
    "    span = 0\n",
    "    if number_of_panels > 1:\n",
    "        for panel_length in WingData[2]:\n",
    "            span = span + panel_length \n",
    "    else:\n",
    "        span = WingData[2]\n",
    "        \n",
    "    #print(\"Wing half span => \" + str(span))\n",
    "    \n",
    "    \n",
    "   \n",
    "   \n",
    "    current_panel = 0\n",
    "    current_span_pos = WingData[2][0]   #outer section of current panel\n",
    "     \n",
    "    while current_panel <= number_of_panels+1:\n",
    "        if y_pos < current_span_pos:\n",
    "                chord = ((WingData[0][current_panel] - WingData[1][current_panel]) / WingData[2][current_panel]) * (current_span_pos - y_pos) + WingData[1][current_panel]\n",
    "                break\n",
    "        \n",
    "        current_panel += 1 \n",
    "        current_span_pos = current_span_pos + WingData[2][current_panel]\n",
    "               \n",
    "        #print(current_panel,current_span_pos)\n",
    "        \n",
    "    \n",
    "    \n",
    "    #print(np.stack((np.linspace(0,span,n),chords),axis=1))    \n",
    "    return(chord)"
   ]
  },
  {
   "cell_type": "code",
   "execution_count": 6,
   "id": "6677fe32-6d75-41b2-82b4-51ac6a0adaf4",
   "metadata": {
    "tags": []
   },
   "outputs": [],
   "source": [
    "def Solve_LL(wingdata,span,AR,a,n):\n",
    "    \n",
    "    #a is the lift slope cl/radians  -> 2*PI\n",
    "    alpha = 5\n",
    "    theta_range = np.linspace(90,0.01,n)\n",
    "    AMatrix = np.ones(shape=(n,n))\n",
    "    X = np.ones(n)\n",
    "    delta = 0\n",
    "    Cl = np.zeros(n)\n",
    "    y_pos = np.zeros(n)\n",
    "    \n",
    "    \n",
    "    i = 0\n",
    "    for theta in theta_range:\n",
    "        unit_y = -math.cos(np.deg2rad(theta)) \n",
    "        c = Get_Chord(wingdata,-unit_y*span)\n",
    "        mu = c*a/(8*span)\n",
    "        \n",
    "        X[i] = mu*(np.deg2rad(alpha))*(math.sin(np.deg2rad(theta)))\n",
    "        for j in range(0,n,1):\n",
    "            AMatrix[i][j] = (math.sin(((j+1)*2 -1)*np.deg2rad(theta)))*(((j+1)*2-1)*mu + (math.sin(np.deg2rad(theta))))\n",
    "        \n",
    "        y_pos[i] = -unit_y*span\n",
    "        i+=1\n",
    "    \n",
    "    #print(A)\n",
    "    #print(X)      \n",
    "    #A = np.matmul(np.linalg.inv(AMatrix),X)\n",
    "    A = np.linalg.solve(AMatrix, X)\n",
    "    \n",
    "    \n",
    "    for i in range(1,n,1):\n",
    "        delta = delta +((i+1)*2-1)*(A[i]**2)/(A[0]**2)\n",
    "\n",
    "    #e =  (1/(1+delta))     \n",
    "\n",
    "    k = 0\n",
    "    for theta in theta_range:  \n",
    "        for j in range(0,n,1):\n",
    "            unit_y = -math.cos(np.deg2rad(theta))\n",
    "            c = Get_Chord(wingdata,-unit_y*span)\n",
    "            Cl[k] = Cl[k]+ (8*span)*(A[j]*(math.sin(((j+1)*2-1)*np.deg2rad(theta)))) / c\n",
    "            \n",
    "        k+=1\n",
    "           \n",
    "    CL = A[0]*(np.pi)*AR\n",
    "    Cl_unit = Cl/CL\n",
    "    return(Cl_unit,y_pos,CL,delta) \n",
    "          \n",
    "    "
   ]
  },
  {
   "cell_type": "code",
   "execution_count": null,
   "id": "95794d48-a924-4b4e-8ded-ad004e65ab51",
   "metadata": {
    "tags": []
   },
   "outputs": [],
   "source": [
    "# SAMPLE CODE\n",
    "\n",
    "n = 60\n",
    "a = 2*np.pi\n",
    "\n",
    "Area,Span,AR, WingData = GetWingData(\"wing_18.dat\")\n",
    "Cl,y_pos,CL,Delta = Solve_LL(WingData,Span,AR,a,n)   \n",
    "\n",
    "print(\"Span efficiency delta => \" + str(Delta))  \n",
    "print(\"CL => \" + str(CL))\n",
    "#print(Cl)                 #Unit local Cl distribution\n",
    "#print(y_pos)                 #span position for each local lift coefficient)\n",
    "\n",
    "\n",
    "fig, ax = plt.subplots()\n",
    "ax.set(xlim=(0, 9), xticks=np.arange(0, 9.5,0.5),\n",
    "       ylim=(0, 1.2), yticks=np.arange(0, 1.2,0.2))\n",
    "ax.plot(y_pos, Cl)\n",
    "Cl_interp = scipy.interpolate.interp1d(y_pos,Cl)\n",
    "spanpoint = 8.9\n",
    "ax.plot(spanpoint,Cl_interp(spanpoint),'ro')\n",
    "ax.grid(True)\n",
    "ax.set_box_aspect(0.4)\n",
    "plt.show()\n",
    "\n"
   ]
  },
  {
   "cell_type": "code",
   "execution_count": 7,
   "id": "cfffebfe-d976-4375-a115-a3e97fcf58c0",
   "metadata": {
    "tags": []
   },
   "outputs": [],
   "source": [
    "def Standard_Atmosphere(FileName,Elevation, standard_rho):\n",
    "    \n",
    "    with open(FileName, 'r') as infile:\n",
    "        S_atm_Data = np.loadtxt(infile, dtype=float, skiprows=1, unpack=True)\n",
    "    \n",
    "    \n",
    "    pressure_interp = scipy.interpolate.interp1d(S_atm_Data[0],S_atm_Data[2])\n",
    "    density_interp = scipy.interpolate.interp1d(S_atm_Data[0],S_atm_Data[3])\n",
    "    Kin_viscosity_interp = scipy.interpolate.interp1d(S_atm_Data[0],S_atm_Data[4])\n",
    "   \n",
    "    pressure = pressure_interp(Elevation)\n",
    "    rho = standard_rho* density_interp(Elevation)\n",
    "    mu = rho * Kin_viscosity_interp(Elevation)* 1e-5\n",
    "    \n",
    "    #print(S_atm_Data)\n",
    "    \n",
    "    \n",
    "    return(pressure, rho,mu)"
   ]
  },
  {
   "cell_type": "code",
   "execution_count": 8,
   "id": "218fae22-6ce3-46f7-9da0-36fdb756d8b3",
   "metadata": {
    "tags": []
   },
   "outputs": [],
   "source": [
    "def Get_rho_mu(P_altitude, OAT,rho):\n",
    "    # standard rho \n",
    "    \n",
    "    P,rho, mu= Standard_Atmosphere(\"Standard_atmosphere.txt\", P_altitude,rho)\n",
    "    \n",
    "    R = 287.058\n",
    "    T = OAT + 273.15\n",
    "    \n",
    "    P = P*100000\n",
    "    \n",
    "    \n",
    "    return((P/(R*T)),mu)"
   ]
  },
  {
   "cell_type": "code",
   "execution_count": 14,
   "id": "b396b7e7-e35e-467e-b6e5-68394259849c",
   "metadata": {
    "tags": []
   },
   "outputs": [
    {
     "name": "stdout",
     "output_type": "stream",
     "text": [
      "0.9093175 1.6940585025000002e-05\n",
      "0.7504899800532416 1.679334327125e-05\n"
     ]
    }
   ],
   "source": [
    "#SAMPLE CODE\n",
    "\n",
    "P,rho, mu = Standard_Atmosphere(\"Standard_atmosphere.txt\", 3000,1.225)\n",
    "print(rho,mu)\n",
    "OAT = 34\n",
    "rho, mu = Get_rho_mu(3455,OAT,1.225)\n",
    "print(rho,mu)"
   ]
  },
  {
   "cell_type": "code",
   "execution_count": 15,
   "id": "594fb61d-8144-4226-bc48-b4647ab56934",
   "metadata": {},
   "outputs": [
    {
     "name": "stdout",
     "output_type": "stream",
     "text": [
      "0.8367119987528993\n"
     ]
    }
   ],
   "source": [
    "# SAMPLE CODE\n",
    "\n",
    "\n",
    "Cl_interp = scipy.interpolate.interp1d(y_pos,Cl)\n",
    "spanpoint = 8.9\n",
    "print(Cl_interp(spanpoint))\n"
   ]
  },
  {
   "cell_type": "code",
   "execution_count": 21,
   "id": "3d1bc4d3-4ae4-4665-9190-303711ef68dc",
   "metadata": {
    "tags": []
   },
   "outputs": [],
   "source": [
    "def Wing_CD(WingFileName,AirfoilFileName,V,rho,mu,bank_angle,weight,Flap,a):\n",
    "   \n",
    "    # get wing definition data\n",
    "    Area,Span,AR, WingData = GetWingData(WingFileName)\n",
    "    \n",
    "    \n",
    "    \n",
    "    # calculte span efficiency and cl-distribution\n",
    "    n = 60\n",
    "    cl,y_pos,CL_theory,delta = Solve_LL(WingData,Span,AR,a,n)   \n",
    "\n",
    "    #set cl interpolation function \n",
    "    cl_interp = scipy.interpolate.interp1d(y_pos,cl)\n",
    "\n",
    "\n",
    "    CL = (2*weight) / (rho*(V**2)*2*Area*np.cos(np.deg2rad(bank_angle)))\n",
    "\n",
    "\n",
    "    # calculate profile drag of the wing\n",
    "\n",
    "\n",
    "    AirfoilData  = GetAirfoilData(AirfoilFileName)\n",
    "\n",
    "\n",
    "    drag = 0\n",
    "    area = 0\n",
    "    span = 0.02\n",
    "\n",
    "\n",
    "\n",
    "    Re_root = rho*V*float(AirfoilData[1][0])/mu\n",
    "    AOA, Cd_root,Cm = CallXfoilcl(cl_interp(span)*CL,Re_root,AirfoilData[0][0],Flap)\n",
    "\n",
    "    #print(span,cl_interp(span)*CL,AOA,Cd_root,Re_root)\n",
    "    for i in range(0,len(WingData[0]),1):\n",
    "\n",
    "\n",
    "        Re_tip = rho*V*float(AirfoilData[1][i+1])/mu\n",
    "\n",
    "        span = span + 0.995*WingData[2][i]\n",
    "        area = ((WingData[0][i] + WingData[1][i])/2)*WingData[2][i]\n",
    "\n",
    "        # call XFOIL DLL\n",
    "\n",
    "\n",
    "        AOA, Cd_tip,Cm = CallXfoilcl(cl_interp(span)*CL,Re_tip,AirfoilData[0][i+1],Flap)\n",
    "        #print(span,cl_interp(span)*CL,AOA,Cd_tip,Re_tip)\n",
    "\n",
    "\n",
    "\n",
    "        drag = drag + 0.5*rho*(V**2)*((Cd_root+Cd_tip)/2)*area\n",
    "\n",
    "        Cd_root = Cd_tip\n",
    "\n",
    "    CDi = ((CL**2)/(np.pi * AR)) * (1 + delta)\n",
    "    CD = 2*drag/(rho*(V**2)*Area) + CDi\n",
    "    \n",
    "\n",
    "    return(CD,CL)\n",
    "    "
   ]
  },
  {
   "cell_type": "code",
   "execution_count": 10,
   "id": "d16c8302-8012-47ef-a3d6-9eecc3b1a88e",
   "metadata": {
    "tags": []
   },
   "outputs": [],
   "source": [
    "def Fuselage_Drag(FileName,V):\n",
    "    with open(FileName, 'r') as infile:\n",
    "        Fuselage_Data = np.loadtxt(infile, dtype=float, skiprows=1, unpack=True)\n",
    "        \n",
    "        \n",
    "    #print(Fuselage_Data)\n",
    "    \n",
    "    drag_interp = scipy.interpolate.interp1d(Fuselage_Data[0],Fuselage_Data[1])\n",
    "    \n",
    "    #Drag = drag_interp(V)\n",
    "    \n",
    "    #Drag is in Newtons\n",
    "    return(drag_interp(V))\n",
    "\n",
    "\n"
   ]
  },
  {
   "cell_type": "code",
   "execution_count": 11,
   "id": "3bd8e4af-3340-46ac-a09b-46e22129f7b6",
   "metadata": {
    "tags": []
   },
   "outputs": [
    {
     "name": "stdout",
     "output_type": "stream",
     "text": [
      "Area=9.989189999999999  Span=18.119999999999997  AR=32.86897135803803\n",
      "1.2249781262066513 1.7897250000000002e-05\n",
      "CD=0.00519186843839714  CL=0.24496305198073073\n",
      "26.218424972848652\n"
     ]
    }
   ],
   "source": [
    "#SAMPLE CODE\n",
    "\n",
    "\n",
    "rho = 1.225\n",
    "mu = 1.789e-5\n",
    "V_inf = 60  #[m/s]\n",
    "alpha = 5   # angle of attack (only for Lifting line solver) [deg]\n",
    "a = 2*np.pi  # lift curve slope\n",
    "Weight = 550*9.81  #[N]\n",
    "Bank_Angle = 0    #[deg]\n",
    "Flap = 0\n",
    "Pressure_altitude = 0  #[m]\n",
    "OAT = 15\n",
    "\n",
    "\n",
    "#Optional call\n",
    "Area,Span,AR, WingData = GetWingData(\"wing_18.dat\")\n",
    "print(\"Area=\" + str(Area*2) + \"  \" + \"Span=\" + str(Span*2) + \"  \" + \"AR=\" + str(AR))\n",
    "\n",
    "rho, mu = Get_rho_mu(Pressure_altitude,OAT,rho)\n",
    "print(rho,mu)\n",
    "\n",
    "CD,CL = Wing_CD(\"wing_18.dat\",\"Airfoil_Data.dat\",V_inf,rho,mu,Bank_Angle,Weight,Flap,a)\n",
    "print(\"CD=\" + str(CD) + \"  \" + \"CL=\" + str(CL))\n",
    "\n",
    "\n",
    "\n",
    "Drag = Fuselage_Drag(\"JS3_Fuselage.dat\",V_inf) + (0.5*rho*(V_inf**2)*CD*Area*2) * 1.1\n",
    "\n",
    "print(Weight/Drag)\n"
   ]
  },
  {
   "cell_type": "code",
   "execution_count": 26,
   "id": "16e559b3-e307-4742-bdbd-e45145d948f5",
   "metadata": {
    "tags": []
   },
   "outputs": [
    {
     "name": "stdout",
     "output_type": "stream",
     "text": [
      "Area=9.989189999999999  Span=18.119999999999997  AR=32.86897135803803\n",
      "./B20 1123753.5385539324 1.7819897393843889\n"
     ]
    },
    {
     "ename": "KeyboardInterrupt",
     "evalue": "",
     "output_type": "error",
     "traceback": [
      "\u001b[0;31m---------------------------------------------------------------------------\u001b[0m",
      "\u001b[0;31mKeyboardInterrupt\u001b[0m                         Traceback (most recent call last)",
      "Cell \u001b[0;32mIn[26], line 64\u001b[0m\n\u001b[1;32m     62\u001b[0m \u001b[38;5;28;01mif\u001b[39;00m (V \u001b[38;5;241m>\u001b[39m \u001b[38;5;241m22\u001b[39m):   \u001b[38;5;66;03m# above 17m/s  do calcs\u001b[39;00m\n\u001b[1;32m     63\u001b[0m     rho, mu \u001b[38;5;241m=\u001b[39m Get_rho_mu(pressure_alt,OAT\u001b[38;5;241m/\u001b[39m\u001b[38;5;241m10\u001b[39m,rho_SL)\n\u001b[0;32m---> 64\u001b[0m     CD,CL \u001b[38;5;241m=\u001b[39m \u001b[43mWing_CD\u001b[49m\u001b[43m(\u001b[49m\u001b[43mWingFile\u001b[49m\u001b[43m,\u001b[49m\u001b[43mAirfoilsFile\u001b[49m\u001b[43m,\u001b[49m\u001b[43mV\u001b[49m\u001b[43m,\u001b[49m\u001b[43mrho\u001b[49m\u001b[43m,\u001b[49m\u001b[43mmu\u001b[49m\u001b[43m,\u001b[49m\u001b[43mBank_Angle\u001b[49m\u001b[43m,\u001b[49m\u001b[43mWeight\u001b[49m\u001b[43m,\u001b[49m\u001b[43mFlap\u001b[49m\u001b[43m,\u001b[49m\u001b[43ma\u001b[49m\u001b[43m)\u001b[49m\n\u001b[1;32m     65\u001b[0m     \u001b[38;5;28mprint\u001b[39m(\u001b[38;5;124m\"\u001b[39m\u001b[38;5;124mCD=\u001b[39m\u001b[38;5;124m\"\u001b[39m \u001b[38;5;241m+\u001b[39m \u001b[38;5;28mstr\u001b[39m(CD) \u001b[38;5;241m+\u001b[39m \u001b[38;5;124m\"\u001b[39m\u001b[38;5;124m  \u001b[39m\u001b[38;5;124m\"\u001b[39m \u001b[38;5;241m+\u001b[39m \u001b[38;5;124m\"\u001b[39m\u001b[38;5;124mCL=\u001b[39m\u001b[38;5;124m\"\u001b[39m \u001b[38;5;241m+\u001b[39m \u001b[38;5;28mstr\u001b[39m(CL))\n\u001b[1;32m     68\u001b[0m     Drag \u001b[38;5;241m=\u001b[39m Fuselage_Drag(FuselageFile,V) \u001b[38;5;241m+\u001b[39m (\u001b[38;5;241m0.5\u001b[39m\u001b[38;5;241m*\u001b[39mrho\u001b[38;5;241m*\u001b[39m(V\u001b[38;5;241m*\u001b[39m\u001b[38;5;241m*\u001b[39m\u001b[38;5;241m2\u001b[39m)\u001b[38;5;241m*\u001b[39mCD\u001b[38;5;241m*\u001b[39mArea\u001b[38;5;241m*\u001b[39m\u001b[38;5;241m2\u001b[39m) \u001b[38;5;241m*\u001b[39m \u001b[38;5;241m1.1\u001b[39m\n",
      "Cell \u001b[0;32mIn[21], line 46\u001b[0m, in \u001b[0;36mWing_CD\u001b[0;34m(WingFileName, AirfoilFileName, V, rho, mu, bank_angle, weight, Flap, a)\u001b[0m\n\u001b[1;32m     41\u001b[0m area \u001b[38;5;241m=\u001b[39m ((WingData[\u001b[38;5;241m0\u001b[39m][i] \u001b[38;5;241m+\u001b[39m WingData[\u001b[38;5;241m1\u001b[39m][i])\u001b[38;5;241m/\u001b[39m\u001b[38;5;241m2\u001b[39m)\u001b[38;5;241m*\u001b[39mWingData[\u001b[38;5;241m2\u001b[39m][i]\n\u001b[1;32m     43\u001b[0m \u001b[38;5;66;03m# call XFOIL DLL\u001b[39;00m\n\u001b[0;32m---> 46\u001b[0m AOA, Cd_tip,Cm \u001b[38;5;241m=\u001b[39m \u001b[43mCallXfoilcl\u001b[49m\u001b[43m(\u001b[49m\u001b[43mcl_interp\u001b[49m\u001b[43m(\u001b[49m\u001b[43mspan\u001b[49m\u001b[43m)\u001b[49m\u001b[38;5;241;43m*\u001b[39;49m\u001b[43mCL\u001b[49m\u001b[43m,\u001b[49m\u001b[43mRe_tip\u001b[49m\u001b[43m,\u001b[49m\u001b[43mAirfoilData\u001b[49m\u001b[43m[\u001b[49m\u001b[38;5;241;43m0\u001b[39;49m\u001b[43m]\u001b[49m\u001b[43m[\u001b[49m\u001b[43mi\u001b[49m\u001b[38;5;241;43m+\u001b[39;49m\u001b[38;5;241;43m1\u001b[39;49m\u001b[43m]\u001b[49m\u001b[43m,\u001b[49m\u001b[43mFlap\u001b[49m\u001b[43m)\u001b[49m\n\u001b[1;32m     47\u001b[0m \u001b[38;5;66;03m#print(span,cl_interp(span)*CL,AOA,Cd_tip,Re_tip)\u001b[39;00m\n\u001b[1;32m     51\u001b[0m drag \u001b[38;5;241m=\u001b[39m drag \u001b[38;5;241m+\u001b[39m \u001b[38;5;241m0.5\u001b[39m\u001b[38;5;241m*\u001b[39mrho\u001b[38;5;241m*\u001b[39m(V\u001b[38;5;241m*\u001b[39m\u001b[38;5;241m*\u001b[39m\u001b[38;5;241m2\u001b[39m)\u001b[38;5;241m*\u001b[39m((Cd_root\u001b[38;5;241m+\u001b[39mCd_tip)\u001b[38;5;241m/\u001b[39m\u001b[38;5;241m2\u001b[39m)\u001b[38;5;241m*\u001b[39marea\n",
      "Cell \u001b[0;32mIn[4], line 12\u001b[0m, in \u001b[0;36mCallXfoilcl\u001b[0;34m(Cl, Re, AirfoilName, Flap)\u001b[0m\n\u001b[1;32m      7\u001b[0m array \u001b[38;5;241m=\u001b[39m (ct\u001b[38;5;241m.\u001b[39mc_double \u001b[38;5;241m*\u001b[39m \u001b[38;5;241m11\u001b[39m) (\u001b[38;5;241m0\u001b[39m,\u001b[38;5;241m0\u001b[39m,\u001b[38;5;241m0\u001b[39m,\u001b[38;5;241m0\u001b[39m,\u001b[38;5;241m0\u001b[39m,\u001b[38;5;241m0\u001b[39m,\u001b[38;5;241m0\u001b[39m,Flap,\u001b[38;5;241m0.86\u001b[39m,\u001b[38;5;241m-\u001b[39m\u001b[38;5;241m0.008\u001b[39m,\u001b[38;5;241m0\u001b[39m)\n\u001b[1;32m     10\u001b[0m my_string \u001b[38;5;241m=\u001b[39m AirfoilName\u001b[38;5;241m.\u001b[39mencode() \u001b[38;5;66;03m# Convert string to bytes\u001b[39;00m\n\u001b[0;32m---> 12\u001b[0m _\u001b[38;5;241m=\u001b[39m \u001b[43mmydll\u001b[49m\u001b[38;5;241;43m.\u001b[39;49m\u001b[43mxfoil_cl\u001b[49m\u001b[43m(\u001b[49m\u001b[43mct\u001b[49m\u001b[38;5;241;43m.\u001b[39;49m\u001b[43mbyref\u001b[49m\u001b[43m(\u001b[49m\u001b[43marray\u001b[49m\u001b[43m)\u001b[49m\u001b[43m,\u001b[49m\u001b[43m \u001b[49m\u001b[43mct\u001b[49m\u001b[38;5;241;43m.\u001b[39;49m\u001b[43mbyref\u001b[49m\u001b[43m(\u001b[49m\u001b[43mCL_IN\u001b[49m\u001b[43m)\u001b[49m\u001b[43m,\u001b[49m\u001b[43mct\u001b[49m\u001b[38;5;241;43m.\u001b[39;49m\u001b[43mbyref\u001b[49m\u001b[43m(\u001b[49m\u001b[43mRE_IN\u001b[49m\u001b[43m)\u001b[49m\u001b[43m,\u001b[49m\u001b[43mct\u001b[49m\u001b[38;5;241;43m.\u001b[39;49m\u001b[43mbyref\u001b[49m\u001b[43m(\u001b[49m\u001b[43mISCONV\u001b[49m\u001b[43m)\u001b[49m\u001b[43m,\u001b[49m\u001b[43mct\u001b[49m\u001b[38;5;241;43m.\u001b[39;49m\u001b[43mc_char_p\u001b[49m\u001b[43m(\u001b[49m\u001b[43mmy_string\u001b[49m\u001b[43m)\u001b[49m\u001b[43m)\u001b[49m;\n\u001b[1;32m     14\u001b[0m         \u001b[38;5;66;03m# Array1(1) = ADEG\u001b[39;00m\n\u001b[1;32m     15\u001b[0m         \u001b[38;5;66;03m# Array1(2) = CD\u001b[39;00m\n\u001b[1;32m     16\u001b[0m         \u001b[38;5;66;03m# Array1(3) = CDF\u001b[39;00m\n\u001b[0;32m   (...)\u001b[0m\n\u001b[1;32m     19\u001b[0m         \u001b[38;5;66;03m# Array1(6) = HFX\u001b[39;00m\n\u001b[1;32m     20\u001b[0m         \u001b[38;5;66;03m# Array1(7) = HFY\u001b[39;00m\n\u001b[1;32m     21\u001b[0m \u001b[38;5;28;01mif\u001b[39;00m ISCONV\u001b[38;5;241m.\u001b[39mvalue \u001b[38;5;129;01mis\u001b[39;00m \u001b[38;5;28;01mFalse\u001b[39;00m:\n",
      "\u001b[0;31mKeyboardInterrupt\u001b[0m: "
     ]
    }
   ],
   "source": [
    "# IGC FILE PARCER MODULE\n",
    "\n",
    "\n",
    "Weight = 550*9.81  #[N]\n",
    "\n",
    "rho_SL = 1.225\n",
    "mu = 1.789e-5\n",
    "alpha = 5   # angle of attack (only for Lifting line solver) [deg]\n",
    "a = 2*np.pi  # lift curve slope\n",
    "\n",
    "Flap = 10\n",
    "\n",
    "WingFile = 'wing_18.dat'\n",
    "FuselageFile = 'JS3_Fuselage.dat'\n",
    "AirfoilsFile = 'Airfoil_Data.dat'\n",
    "\n",
    "IGC_File = '355_MB.igc'\n",
    "Output_File = 'OUTPUT.txt'\n",
    "\n",
    "\n",
    "\n",
    "\n",
    "# Get wing parameters\n",
    "Area,Span,AR, WingData = GetWingData(WingFile)\n",
    "print(\"Area=\" + str(Area*2) + \"  \" + \"Span=\" + str(Span*2) + \"  \" + \"AR=\" + str(AR))\n",
    "\n",
    "\n",
    "\n",
    "with open(IGC_File, 'r') as f:\n",
    "\tIGC_Data = Reader().read(f)\n",
    "\n",
    "    \n",
    "TAS_previous = IGC_Data[\"fix_records\"][1][0][\"TAS\"]                           #True airspeed\n",
    "AOR_previous = IGC_Data[\"fix_records\"][1][0][\"AOR\"]                           #Angle of roll\n",
    "pressure_alt_previous = IGC_Data[\"fix_records\"][1][0][\"pressure_alt\"]         #Pressure altitude\n",
    "time_previous = IGC_Data[\"fix_records\"][1][0][\"time\"]  \n",
    "\n",
    "    \n",
    "file = open(Output_File,\"w\")\n",
    "i = 1\n",
    "while i < len(IGC_Data['fix_records'][1]):\n",
    "  \n",
    "    TAS = IGC_Data[\"fix_records\"][1][i][\"TAS\"]                           \n",
    "    AOR = IGC_Data[\"fix_records\"][1][i][\"AOR\"]                           \n",
    "    OAT = IGC_Data[\"fix_records\"][1][i][\"OAT\"]                           \n",
    "    pressure_alt = IGC_Data[\"fix_records\"][1][i][\"pressure_alt\"]         \n",
    "    time_now = IGC_Data[\"fix_records\"][1][i][\"time\"]  \n",
    "    \n",
    "    V = (TAS_previous + TAS)/720\n",
    "    Bank_Angle = (AOR_previous + AOR)/2\n",
    "    \n",
    "\n",
    "    FMT = '%H:%M:%S'\n",
    "    tdelta = datetime.strptime(str(time_now), FMT) - datetime.strptime(str(time_previous), FMT)\n",
    "    \n",
    "\n",
    "    timestep = 1\n",
    "    Delta_H = pressure_alt - pressure_alt_previous\n",
    "    Sink_V = Delta_H/timestep\n",
    "    \n",
    "        \n",
    "    if (V > 22):   # above 17m/s  do calcs\n",
    "        rho, mu = Get_rho_mu(pressure_alt,OAT/10,rho_SL)\n",
    "        CD,CL = Wing_CD(WingFile,AirfoilsFile,V,rho,mu,Bank_Angle,Weight,Flap,a)\n",
    "        print(\"CD=\" + str(CD) + \"  \" + \"CL=\" + str(CL))\n",
    "        \n",
    "        \n",
    "        Drag = Fuselage_Drag(FuselageFile,V) + (0.5*rho*(V**2)*CD*Area*2) * 1.1\n",
    "        Performance_Sink_V = -V/(Weight/Drag)\n",
    "        print(Sink_V, Performance_Sink_V)\n",
    "    else:\n",
    "        Drag = 0\n",
    "\n",
    "\n",
    "\n",
    "    i += 1\n",
    "\n",
    "    TAS_previous = TAS\n",
    "    AOR_previous = AOR\n",
    "    pressure_alt_previous = pressure_alt\n",
    "    time_previous = time_now\n",
    "    \n",
    "    \n",
    "file.close()\n",
    "\n",
    "\n",
    "    \n",
    "    "
   ]
  },
  {
   "cell_type": "code",
   "execution_count": 27,
   "id": "c8f28e72-df7a-468b-8cd3-27d53604de83",
   "metadata": {
    "tags": []
   },
   "outputs": [
    {
     "name": "stdout",
     "output_type": "stream",
     "text": [
      "14216\n",
      "12464\n",
      "{'time': datetime.time(11, 3, 53), 'lat': 51.3049, 'lon': 14.56555, 'validity': 'A', 'pressure_alt': 1371, 'gps_alt': 1488, 'FXA': 5, 'ENL': 4, 'TAS': 12464, 'GSP': 11757, 'VAT': 463, 'OAT': 119, 'NET': 557, 'ACZ': 130, 'AOR': -27, 'AOP': 6}\n",
      "{'time': datetime.time(11, 3, 54), 'lat': 51.30481666666667, 'lon': 14.566, 'validity': 'A', 'pressure_alt': 1378, 'gps_alt': 1495, 'FXA': 5, 'ENL': 4, 'TAS': 12205, 'GSP': 11445, 'VAT': 478, 'OAT': 118, 'NET': 523, 'ACZ': 120, 'AOR': -31, 'AOP': 4}\n"
     ]
    }
   ],
   "source": [
    "# SAMPLE CODE\n",
    "# Moving average calc\n",
    "\n",
    "# ACZ - G-forces\n",
    "# AOR - Roll angle\n",
    "# AOP - Pitch angle\n",
    "\n",
    "with open('355_MB.igc', 'r') as f:\n",
    "\tparsed_igc_file = Reader().read(f)\n",
    "\n",
    "\n",
    "print (len(parsed_igc_file['fix_records'][1]))\n",
    "print (parsed_igc_file[\"fix_records\"][1][1000][\"TAS\"])\n",
    "print (parsed_igc_file[\"fix_records\"][1][1000])\n",
    "print (parsed_igc_file[\"fix_records\"][1][1001])\n",
    "   \n",
    "window_size = 5\n",
    "  \n",
    "i = 0\n",
    "\n",
    "TAS_MA = []\n",
    "AOR_MA = []\n",
    "\n",
    "\n",
    "window = []\n",
    "moving_averages = []\n",
    "\n",
    "\n",
    "\n",
    "# file = open(\"AOR.txt\",\"w\")\n",
    "# i = 0\n",
    "# while i < len(parsed_igc_file['fix_records'][1]) - window_size + 1:\n",
    "    \n",
    "#     if i < window_size:\n",
    "#         window.append(parsed_igc_file[\"fix_records\"][1][i][\"AOR\"])\n",
    "  \n",
    "#     else:\n",
    "#         window.append(parsed_igc_file[\"fix_records\"][1][i][\"AOR\"])\n",
    "#         window.pop(0)\n",
    "#         window_average = round(sum(window) / window_size, 2)\n",
    "#         moving_averages.append(window_average)\n",
    "#         file.write(str(parsed_igc_file[\"fix_records\"][1][i][\"AOR\"]) + \" \" + str(window_average) +\" \" +str(parsed_igc_file[\"fix_records\"][1][i][\"OAT\"]/10) + \"\\n\")\n",
    "#     i += 1\n",
    "\n",
    "# file.close()\n",
    "\n",
    "\n",
    "\n"
   ]
  },
  {
   "cell_type": "code",
   "execution_count": null,
   "id": "36a78a62-9ff3-41f1-a366-651d1e51f3b0",
   "metadata": {},
   "outputs": [],
   "source": []
  }
 ],
 "metadata": {
  "kernelspec": {
   "display_name": "Python 3 (ipykernel)",
   "language": "python",
   "name": "python3"
  },
  "language_info": {
   "codemirror_mode": {
    "name": "ipython",
    "version": 3
   },
   "file_extension": ".py",
   "mimetype": "text/x-python",
   "name": "python",
   "nbconvert_exporter": "python",
   "pygments_lexer": "ipython3",
   "version": "3.10.12"
  }
 },
 "nbformat": 4,
 "nbformat_minor": 5
}
