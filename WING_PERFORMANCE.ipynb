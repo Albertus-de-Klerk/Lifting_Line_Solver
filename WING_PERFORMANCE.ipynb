{
 "cells": [
  {
   "cell_type": "code",
   "execution_count": 1,
   "id": "2974678b-8ad7-4a03-85f4-e06adc89b81e",
   "metadata": {
    "tags": []
   },
   "outputs": [],
   "source": [
    "import numpy as np\n",
    "import matplotlib.pyplot as plt\n",
    "import math\n",
    "import ctypes as ct\n",
    "import scipy.interpolate\n",
    "\n",
    "\n",
    "# Define wing parameters\n",
    "\n",
    "# rho = 1.225\n",
    "# mu = 1.789e-5\n",
    "# V_inf = 60  #[m/s]\n",
    "# alpha = 5   # angle of attack [deg]\n",
    "# a_0 = 2*np.pi\n",
    "# Weight = 550*9.81  #[N]\n",
    "# Bank_Angle = 20    #[deg]\n",
    "# Span = 0\n",
    "# AR = 0\n",
    "# Area = 0\n",
    "\n",
    "\n",
    "\n",
    "\n"
   ]
  },
  {
   "cell_type": "code",
   "execution_count": 2,
   "id": "af4761b2-e416-4abf-8b7f-bb0fa21488f2",
   "metadata": {
    "tags": []
   },
   "outputs": [],
   "source": [
    "# Function to read airfoil data at each station\n",
    "\n",
    "def GetAirfoilData(Filename):\n",
    "    with open(Filename, 'r') as infile:\n",
    "        AirfoilData = np.loadtxt(infile, dtype=str, skiprows=0, unpack=True)\n",
    "    \n",
    "    return AirfoilData"
   ]
  },
  {
   "cell_type": "code",
   "execution_count": 3,
   "id": "809111f8-0758-4177-931f-773589fb341e",
   "metadata": {
    "tags": []
   },
   "outputs": [],
   "source": [
    "# Function to read wing geometry\n",
    "\n",
    "def GetWingData(Filename):\n",
    "    with open(Filename, 'r') as infile:\n",
    "        WingData = np.loadtxt(infile, dtype=float, skiprows=0, unpack=True)\n",
    "    area = 0\n",
    "    span = 0\n",
    "    \n",
    "    for i in range(0,len(WingData[0]),1):\n",
    "        span = span + WingData[2][i]\n",
    "        area = area + ((WingData[0][i] + WingData[1][i])/2)*WingData[2][i]\n",
    "    \n",
    "    AR = 2*(span**2)/area\n",
    "    \n",
    "    return area, span,AR,WingData\n",
    "    \n",
    "\n"
   ]
  },
  {
   "cell_type": "code",
   "execution_count": 4,
   "id": "4170e42f-3b8e-45ba-8a94-a844f4e378ec",
   "metadata": {
    "tags": []
   },
   "outputs": [],
   "source": [
    "def CallXfoilcl(Cl, Re, AirfoilName, Flap):\n",
    "\n",
    "    mydll = ct.cdll.LoadLibrary(\"D:\\XFOIL\\XFOIL.dll\")\n",
    "\n",
    "    ISCONV = ct.c_bool(False)\n",
    "    RE_IN = ct.c_double(Re)\n",
    "    CL_IN = ct.c_double(Cl)\n",
    "    array = (ct.c_double * 11) (0,0,0,0,0,0,0,Flap,0.86,-0.008,0)\n",
    "#FileName = 'D:\\XFOIL\\T12'\n",
    "\n",
    "\n",
    "    my_string = AirfoilName.encode() # Convert string to bytes\n",
    "\n",
    "\n",
    "\n",
    "    _= mydll.xfoil_cl(ct.byref(array), ct.byref(CL_IN),ct.byref(RE_IN),ct.byref(ISCONV),ct.c_char_p(my_string))\n",
    "\n",
    "            # Array1(1) = ADEG\n",
    "            # Array1(2) = CD\n",
    "            # Array1(3) = CDF\n",
    "            # Array1(4) = CM\n",
    "            # Array1(5) = HMOM\n",
    "            # Array1(6) = HFX\n",
    "            # Array1(7) = HFY\n",
    "\n",
    "    return array[0],array[1],array[3]        \n",
    "                "
   ]
  },
  {
   "cell_type": "code",
   "execution_count": 5,
   "id": "f0675038-0f35-456a-9a8c-307670bcfd37",
   "metadata": {
    "tags": []
   },
   "outputs": [
    {
     "name": "stdout",
     "output_type": "stream",
     "text": [
      "[[ 0.756       0.718       0.615       0.479       0.32      ]\n",
      " [ 0.718       0.615       0.479       0.32        0.2       ]\n",
      " [ 1.598       2.602       1.8         2.168       0.892     ]\n",
      " [ 1.17700929  1.73317762  0.98190798  0.8606      0.2194    ]\n",
      " [ 2.          2.          4.24        6.47       18.93      ]\n",
      " [ 1.59702753  2.60041654  1.79507858  2.154       0.84444444]]\n",
      "Number of panels => 5\n",
      "Aspect Ratio => 32.86897135803803\n",
      "Area => 9.989189999999999\n",
      "Span => 18.119999999999997\n"
     ]
    }
   ],
   "source": [
    "#SAMPLE CODE\n",
    "\n",
    "Area,Span,AR, WingData = GetWingData(\"wing_18.dat\")\n",
    "print(WingData)\n",
    "print(\"Number of panels => \" + str(WingData[0].size))\n",
    "print(\"Aspect Ratio => \" + str(AR))\n",
    "print(\"Area => \" + str(Area*2))\n",
    "print(\"Span => \" + str(Span*2))\n",
    "#print(dir(WingData))"
   ]
  },
  {
   "cell_type": "code",
   "execution_count": 8,
   "id": "83681c04-6200-4077-9803-ffa14010a0b0",
   "metadata": {
    "tags": []
   },
   "outputs": [
    {
     "name": "stdout",
     "output_type": "stream",
     "text": [
      "[['./B20' './BeT1' './T12' './TeN1' './N13' './N16']\n",
      " ['0.756' '0.718' '0.615' '0.479' '0.32' '0.20']]\n"
     ]
    },
    {
     "ename": "NameError",
     "evalue": "name 'rho' is not defined",
     "output_type": "error",
     "traceback": [
      "\u001b[0;31m---------------------------------------------------------------------------\u001b[0m",
      "\u001b[0;31mNameError\u001b[0m                                 Traceback (most recent call last)",
      "Cell \u001b[0;32mIn[8], line 8\u001b[0m\n\u001b[1;32m      4\u001b[0m \u001b[38;5;28mprint\u001b[39m(AirfoilData)\n\u001b[1;32m      7\u001b[0m \u001b[38;5;28;01mfor\u001b[39;00m i \u001b[38;5;129;01min\u001b[39;00m \u001b[38;5;28mrange\u001b[39m(\u001b[38;5;241m0\u001b[39m,\u001b[38;5;28mlen\u001b[39m(AirfoilData[\u001b[38;5;241m0\u001b[39m]),\u001b[38;5;241m1\u001b[39m):\n\u001b[0;32m----> 8\u001b[0m     Re \u001b[38;5;241m=\u001b[39m \u001b[43mrho\u001b[49m\u001b[38;5;241m*\u001b[39mV_inf\u001b[38;5;241m*\u001b[39m\u001b[38;5;28mfloat\u001b[39m(AirfoilData[\u001b[38;5;241m1\u001b[39m][i])\u001b[38;5;241m/\u001b[39mmu\n\u001b[1;32m     10\u001b[0m     \u001b[38;5;66;03m# call XFOIL DLL\u001b[39;00m\n\u001b[1;32m     11\u001b[0m     AOA, Cd,Cm \u001b[38;5;241m=\u001b[39m CallXfoilcl(\u001b[38;5;241m0\u001b[39m,Re,AirfoilData[\u001b[38;5;241m0\u001b[39m][i],\u001b[38;5;241m0\u001b[39m)\n",
      "\u001b[0;31mNameError\u001b[0m: name 'rho' is not defined"
     ]
    }
   ],
   "source": [
    "#SAMPLE CODE\n",
    "\n",
    "AirfoilData  = GetAirfoilData(\"Airfoil_Data.dat\")\n",
    "print(AirfoilData)\n",
    "\n",
    "\n",
    "for i in range(0,len(AirfoilData[0]),1):\n",
    "    Re = rho*V_inf*float(AirfoilData[1][i])/mu\n",
    "    \n",
    "    # call XFOIL DLL\n",
    "    AOA, Cd,Cm = CallXfoilcl(0,Re,AirfoilData[0][i],0)\n",
    "    \n",
    "    print(i+1,AirfoilData[1][i],Re,AOA, Cd, Cm)\n",
    "    "
   ]
  },
  {
   "cell_type": "code",
   "execution_count": 6,
   "id": "41decf18-ff61-41cb-a897-2ae4461879d2",
   "metadata": {
    "tags": []
   },
   "outputs": [],
   "source": [
    "# Function to divide wing into n sections, returns chord lengths array\n",
    "#NOT USED\n",
    "\n",
    "\n",
    "def WingDivide(WingData,n):\n",
    "    number_of_panels = WingData[0].size\n",
    "\n",
    "    #determine wing span from wing file\n",
    "    span = 0\n",
    "    if number_of_panels > 1:\n",
    "        for panel_length in WingData[5]:\n",
    "            span = span + panel_length \n",
    "    else:\n",
    "        span = WingData[5]\n",
    "        \n",
    "    #print(\"Wing span => \" + str(2*span))\n",
    "    \n",
    "    \n",
    "    # divide wing into n sections\n",
    "    chords = np.zeros(n, dtype=float)\n",
    "    current_panel = 0 \n",
    "    current_span_pos = WingData[5][0]\n",
    "    i = 0\n",
    "    for y_pos in np.linspace(0,span, n):\n",
    "           \n",
    "        if y_pos > current_span_pos:\n",
    "            current_panel = current_panel + 1\n",
    "            current_span_pos = current_span_pos + WingData[5][current_panel]\n",
    "        \n",
    "        chords[i] = ((WingData[0][current_panel] - WingData[1][current_panel]) / WingData[5][current_panel]) * (current_span_pos - y_pos) + WingData[1][current_panel]\n",
    "        i += 1\n",
    "    #print(np.stack((np.linspace(0,span,n),chords),axis=1))    \n",
    "    return(np.stack((np.linspace(0,span,n),chords),axis=1))\n",
    " \n",
    "    \n",
    "    "
   ]
  },
  {
   "cell_type": "code",
   "execution_count": 12,
   "id": "aaa830b3-efb8-40d6-9d9f-5050114034b1",
   "metadata": {
    "tags": []
   },
   "outputs": [],
   "source": [
    "def Get_Chord(WingData,y_pos):\n",
    "    chord = 0\n",
    "    number_of_panels = WingData[0].size\n",
    "\n",
    "    #determine wing span from wing file\n",
    "    span = 0\n",
    "    if number_of_panels > 1:\n",
    "        for panel_length in WingData[2]:\n",
    "            span = span + panel_length \n",
    "    else:\n",
    "        span = WingData[2]\n",
    "        \n",
    "    #print(\"Wing half span => \" + str(span))\n",
    "    \n",
    "    \n",
    "   \n",
    "   \n",
    "    current_panel = 0\n",
    "    current_span_pos = WingData[2][0]   #outer section of current panel\n",
    "     \n",
    "    while current_panel <= number_of_panels+1:\n",
    "        if y_pos < current_span_pos:\n",
    "                chord = ((WingData[0][current_panel] - WingData[1][current_panel]) / WingData[2][current_panel]) * (current_span_pos - y_pos) + WingData[1][current_panel]\n",
    "                break\n",
    "        \n",
    "        current_panel += 1 \n",
    "        current_span_pos = current_span_pos + WingData[2][current_panel]\n",
    "               \n",
    "        #print(current_panel,current_span_pos)\n",
    "        \n",
    "    \n",
    "    \n",
    "    #print(np.stack((np.linspace(0,span,n),chords),axis=1))    \n",
    "    return(chord)"
   ]
  },
  {
   "cell_type": "code",
   "execution_count": 13,
   "id": "6677fe32-6d75-41b2-82b4-51ac6a0adaf4",
   "metadata": {
    "tags": []
   },
   "outputs": [],
   "source": [
    "def Solve_LL(wingdata,span,AR,n):\n",
    "    \n",
    "    theta_range = np.linspace(90,0.01,n)\n",
    "    AMatrix = np.ones(shape=(n,n))\n",
    "    X = np.ones(n)\n",
    "    delta = 0\n",
    "    Cl = np.zeros(n)\n",
    "    y_pos = np.zeros(n)\n",
    "    \n",
    "    \n",
    "    i = 0\n",
    "    for theta in theta_range:\n",
    "        unit_y = -math.cos(np.deg2rad(theta)) \n",
    "        c = Get_Chord(wingdata,-unit_y*span)\n",
    "        mu = c*a_0/(8*span)\n",
    "        \n",
    "        X[i] = mu*(np.deg2rad(alpha))*(math.sin(np.deg2rad(theta)))\n",
    "        for j in range(0,n,1):\n",
    "            AMatrix[i][j] = (math.sin(((j+1)*2 -1)*np.deg2rad(theta)))*(((j+1)*2-1)*mu + (math.sin(np.deg2rad(theta))))\n",
    "        \n",
    "        y_pos[i] = -unit_y*span\n",
    "        i+=1\n",
    "    \n",
    "    #print(A)\n",
    "    #print(X)      \n",
    "    #A = np.matmul(np.linalg.inv(AMatrix),X)\n",
    "    A = np.linalg.solve(AMatrix, X)\n",
    "    \n",
    "    \n",
    "    for i in range(1,n,1):\n",
    "        delta = delta +((i+1)*2-1)*(A[i]**2)/(A[0]**2)\n",
    "\n",
    "    #e =  (1/(1+delta))     \n",
    "\n",
    "    k = 0\n",
    "    for theta in theta_range:  \n",
    "        for j in range(0,n,1):\n",
    "            unit_y = -math.cos(np.deg2rad(theta))\n",
    "            c = Get_Chord(wingdata,-unit_y*span)\n",
    "            Cl[k] = Cl[k]+ (8*span)*(A[j]*(math.sin(((j+1)*2-1)*np.deg2rad(theta)))) / c\n",
    "            \n",
    "        k+=1\n",
    "           \n",
    "    CL = A[0]*(np.pi)*AR\n",
    "    Cl_unit = Cl/CL\n",
    "    \n",
    "    return(Cl_unit,y_pos,CL,delta) \n",
    "          \n",
    "    "
   ]
  },
  {
   "cell_type": "code",
   "execution_count": 10,
   "id": "95794d48-a924-4b4e-8ded-ad004e65ab51",
   "metadata": {
    "tags": []
   },
   "outputs": [
    {
     "ename": "NameError",
     "evalue": "name 'a_0' is not defined",
     "output_type": "error",
     "traceback": [
      "\u001b[0;31m---------------------------------------------------------------------------\u001b[0m",
      "\u001b[0;31mNameError\u001b[0m                                 Traceback (most recent call last)",
      "Cell \u001b[0;32mIn[10], line 5\u001b[0m\n\u001b[1;32m      3\u001b[0m n \u001b[38;5;241m=\u001b[39m \u001b[38;5;241m60\u001b[39m\n\u001b[1;32m      4\u001b[0m Area,Span,AR, WingData \u001b[38;5;241m=\u001b[39m GetWingData(\u001b[38;5;124m\"\u001b[39m\u001b[38;5;124mwing_18.dat\u001b[39m\u001b[38;5;124m\"\u001b[39m)\n\u001b[0;32m----> 5\u001b[0m Cl,y_pos,CL,Delta \u001b[38;5;241m=\u001b[39m \u001b[43mSolve_LL\u001b[49m\u001b[43m(\u001b[49m\u001b[43mWingData\u001b[49m\u001b[43m,\u001b[49m\u001b[43mSpan\u001b[49m\u001b[43m,\u001b[49m\u001b[43mAR\u001b[49m\u001b[43m,\u001b[49m\u001b[43mn\u001b[49m\u001b[43m)\u001b[49m   \n\u001b[1;32m      7\u001b[0m \u001b[38;5;28mprint\u001b[39m(\u001b[38;5;124m\"\u001b[39m\u001b[38;5;124mSpan efficiency delta => \u001b[39m\u001b[38;5;124m\"\u001b[39m \u001b[38;5;241m+\u001b[39m \u001b[38;5;28mstr\u001b[39m(Delta))  \n\u001b[1;32m      8\u001b[0m \u001b[38;5;28mprint\u001b[39m(\u001b[38;5;124m\"\u001b[39m\u001b[38;5;124mCL => \u001b[39m\u001b[38;5;124m\"\u001b[39m \u001b[38;5;241m+\u001b[39m \u001b[38;5;28mstr\u001b[39m(CL))\n",
      "Cell \u001b[0;32mIn[9], line 15\u001b[0m, in \u001b[0;36mSolve_LL\u001b[0;34m(wingdata, span, AR, n)\u001b[0m\n\u001b[1;32m     13\u001b[0m unit_y \u001b[38;5;241m=\u001b[39m \u001b[38;5;241m-\u001b[39mmath\u001b[38;5;241m.\u001b[39mcos(np\u001b[38;5;241m.\u001b[39mdeg2rad(theta)) \n\u001b[1;32m     14\u001b[0m c \u001b[38;5;241m=\u001b[39m Get_Chord(wingdata,\u001b[38;5;241m-\u001b[39munit_y\u001b[38;5;241m*\u001b[39mspan)\n\u001b[0;32m---> 15\u001b[0m mu \u001b[38;5;241m=\u001b[39m c\u001b[38;5;241m*\u001b[39m\u001b[43ma_0\u001b[49m\u001b[38;5;241m/\u001b[39m(\u001b[38;5;241m8\u001b[39m\u001b[38;5;241m*\u001b[39mspan)\n\u001b[1;32m     17\u001b[0m X[i] \u001b[38;5;241m=\u001b[39m mu\u001b[38;5;241m*\u001b[39m(np\u001b[38;5;241m.\u001b[39mdeg2rad(alpha))\u001b[38;5;241m*\u001b[39m(math\u001b[38;5;241m.\u001b[39msin(np\u001b[38;5;241m.\u001b[39mdeg2rad(theta)))\n\u001b[1;32m     18\u001b[0m \u001b[38;5;28;01mfor\u001b[39;00m j \u001b[38;5;129;01min\u001b[39;00m \u001b[38;5;28mrange\u001b[39m(\u001b[38;5;241m0\u001b[39m,n,\u001b[38;5;241m1\u001b[39m):\n",
      "\u001b[0;31mNameError\u001b[0m: name 'a_0' is not defined"
     ]
    }
   ],
   "source": [
    "# SAMPLE CODE\n",
    "\n",
    "n = 60\n",
    "Area,Span,AR, WingData = GetWingData(\"wing_18.dat\")\n",
    "Cl,y_pos,CL,Delta = Solve_LL(WingData,Span,AR,n)   \n",
    "\n",
    "print(\"Span efficiency delta => \" + str(Delta))  \n",
    "print(\"CL => \" + str(CL))\n",
    "#print(Cl)                 #Unit local Cl distribution\n",
    "#print(y_pos)                 #span position for each local lift coefficient)\n",
    "\n",
    "\n",
    "fig, ax = plt.subplots()\n",
    "ax.set(xlim=(0, 9), xticks=np.arange(0, 9.5,0.5),\n",
    "       ylim=(0, 1.2), yticks=np.arange(0, 1.2,0.2))\n",
    "ax.plot(y_pos, Cl,\".\")\n",
    "Cl_interp = scipy.interpolate.interp1d(y_pos,Cl)\n",
    "spanpoint = 8.5\n",
    "ax.plot(spanpoint,Cl_interp(spanpoint),'ro')\n",
    "ax.grid(True)\n",
    "ax.set_box_aspect(0.4)\n",
    "plt.show()\n",
    "\n"
   ]
  },
  {
   "cell_type": "code",
   "execution_count": 13,
   "id": "594fb61d-8144-4226-bc48-b4647ab56934",
   "metadata": {
    "tags": []
   },
   "outputs": [
    {
     "ename": "SyntaxError",
     "evalue": "invalid character '•' (U+2022) (2028474374.py, line 1)",
     "output_type": "error",
     "traceback": [
      "\u001b[0;36m  Cell \u001b[0;32mIn[13], line 1\u001b[0;36m\u001b[0m\n\u001b[0;31m    ••••••••••# SAMPLE CODE\u001b[0m\n\u001b[0m    ^\u001b[0m\n\u001b[0;31mSyntaxError\u001b[0m\u001b[0;31m:\u001b[0m invalid character '•' (U+2022)\n"
     ]
    }
   ],
   "source": [
    "••••••••••# SAMPLE CODE\n",
    "\n",
    "\n",
    "Cl_interp = scipy.interpolate.interp1d(y_pos,Cl)\n",
    "spanpoint = 8.9\n",
    "print(Cl_interp(spanpoint))\n"
   ]
  },
  {
   "cell_type": "code",
   "execution_count": 21,
   "id": "3d1bc4d3-4ae4-4665-9190-303711ef68dc",
   "metadata": {},
   "outputs": [],
   "source": [
    "def Wing_CD(WingFileName,AirfoilFileName,V,rho,mu,bank_angle,weight,Flap):\n",
    "    \n",
    "    # get wing definition data\n",
    "    Area,Span,AR, WingData = GetWingData(WingFileName)\n",
    "    \n",
    "    #print(\"Area=\" + str(Area*2) + \"  \" + \"Span=\" + str(Span*2) + \"  \" + \"AR=\" + str(AR))\n",
    "    \n",
    "    # calculte span efficiency and cl-distribution\n",
    "    n = 60\n",
    "    cl,y_pos,CL_theory,delta = Solve_LL(WingData,Span,AR,n)   \n",
    "    \n",
    "    #set cl interpolation function \n",
    "    cl_interp = scipy.interpolate.interp1d(y_pos,cl)\n",
    "    \n",
    "       \n",
    "    CL = (2*weight) / (rho*(V**2)*Area*np.cos(np.deg2rad(bank_angle)))\n",
    "    \n",
    "    \n",
    "    # calculate profile drag of the wing\n",
    "    \n",
    "    \n",
    "    AirfoilData  = GetAirfoilData(AirfoilFileName)\n",
    "\n",
    "     \n",
    "    drag = 0\n",
    "    area = 0\n",
    "    span = 0.02\n",
    "   \n",
    "    \n",
    "    \n",
    "    Re_root = rho*V*float(AirfoilData[1][0])/mu\n",
    "    AOA, Cd_root,Cm = CallXfoilcl(cl_interp(span)*CL,Re_root,AirfoilData[0][0],Flap)\n",
    "    \n",
    "    #print(span,cl_interp(span)*CL,AOA,Cd_root,Re_root)\n",
    "    for i in range(0,len(WingData[0]),1):\n",
    "        \n",
    "        \n",
    "        Re_tip = rho*V*float(AirfoilData[1][i+1])/mu\n",
    "        \n",
    "        span = span + 0.995*WingData[2][i]\n",
    "        area = ((WingData[0][i] + WingData[1][i])/2)*WingData[2][i]\n",
    "    \n",
    "        # call XFOIL DLL\n",
    "        \n",
    "        \n",
    "        AOA, Cd_tip,Cm = CallXfoilcl(cl_interp(span)*CL,Re_tip,AirfoilData[0][i+1],Flap)\n",
    "        #print(span,cl_interp(span)*CL,AOA,Cd_tip,Re_tip)\n",
    "        \n",
    "        \n",
    "        \n",
    "        drag = drag + 0.5*rho*(V**2)*((Cd_root+Cd_tip)/2)*area\n",
    "        \n",
    "        Cd_root = Cd_tip\n",
    "        \n",
    "        \n",
    "    \n",
    "    \n",
    "\n",
    "    \n",
    "    CDi = ((CL**2)/(np.pi * AR)) * (1 + delta)\n",
    "    CD = 2*drag/(rho*(V**2)*Area) + CDi\n",
    "    \n",
    "    return(CD,CL)\n",
    "    "
   ]
  },
  {
   "cell_type": "code",
   "execution_count": 11,
   "id": "3bd8e4af-3340-46ac-a09b-46e22129f7b6",
   "metadata": {
    "tags": []
   },
   "outputs": [
    {
     "name": "stdout",
     "output_type": "stream",
     "text": [
      "Area=9.989189999999999  Span=18.119999999999997  AR=32.86897135803803\n"
     ]
    },
    {
     "ename": "NameError",
     "evalue": "name 'Wing_CD' is not defined",
     "output_type": "error",
     "traceback": [
      "\u001b[0;31m---------------------------------------------------------------------------\u001b[0m",
      "\u001b[0;31mNameError\u001b[0m                                 Traceback (most recent call last)",
      "Cell \u001b[0;32mIn[11], line 17\u001b[0m\n\u001b[1;32m     14\u001b[0m Area,Span,AR, WingData \u001b[38;5;241m=\u001b[39m GetWingData(\u001b[38;5;124m\"\u001b[39m\u001b[38;5;124mwing_18.dat\u001b[39m\u001b[38;5;124m\"\u001b[39m)\n\u001b[1;32m     15\u001b[0m \u001b[38;5;28mprint\u001b[39m(\u001b[38;5;124m\"\u001b[39m\u001b[38;5;124mArea=\u001b[39m\u001b[38;5;124m\"\u001b[39m \u001b[38;5;241m+\u001b[39m \u001b[38;5;28mstr\u001b[39m(Area\u001b[38;5;241m*\u001b[39m\u001b[38;5;241m2\u001b[39m) \u001b[38;5;241m+\u001b[39m \u001b[38;5;124m\"\u001b[39m\u001b[38;5;124m  \u001b[39m\u001b[38;5;124m\"\u001b[39m \u001b[38;5;241m+\u001b[39m \u001b[38;5;124m\"\u001b[39m\u001b[38;5;124mSpan=\u001b[39m\u001b[38;5;124m\"\u001b[39m \u001b[38;5;241m+\u001b[39m \u001b[38;5;28mstr\u001b[39m(Span\u001b[38;5;241m*\u001b[39m\u001b[38;5;241m2\u001b[39m) \u001b[38;5;241m+\u001b[39m \u001b[38;5;124m\"\u001b[39m\u001b[38;5;124m  \u001b[39m\u001b[38;5;124m\"\u001b[39m \u001b[38;5;241m+\u001b[39m \u001b[38;5;124m\"\u001b[39m\u001b[38;5;124mAR=\u001b[39m\u001b[38;5;124m\"\u001b[39m \u001b[38;5;241m+\u001b[39m \u001b[38;5;28mstr\u001b[39m(AR))\n\u001b[0;32m---> 17\u001b[0m CD,CL \u001b[38;5;241m=\u001b[39m \u001b[43mWing_CD\u001b[49m(\u001b[38;5;124m\"\u001b[39m\u001b[38;5;124mwing_18.dat\u001b[39m\u001b[38;5;124m\"\u001b[39m,\u001b[38;5;124m\"\u001b[39m\u001b[38;5;124mAirfoil_Data.dat\u001b[39m\u001b[38;5;124m\"\u001b[39m,V_inf,rho,mu,Bank_Angle,Weight,Flap)\n\u001b[1;32m     18\u001b[0m \u001b[38;5;28mprint\u001b[39m(\u001b[38;5;124m\"\u001b[39m\u001b[38;5;124mCD=\u001b[39m\u001b[38;5;124m\"\u001b[39m \u001b[38;5;241m+\u001b[39m \u001b[38;5;28mstr\u001b[39m(CD) \u001b[38;5;241m+\u001b[39m \u001b[38;5;124m\"\u001b[39m\u001b[38;5;124m  \u001b[39m\u001b[38;5;124m\"\u001b[39m \u001b[38;5;241m+\u001b[39m \u001b[38;5;124m\"\u001b[39m\u001b[38;5;124mCL=\u001b[39m\u001b[38;5;124m\"\u001b[39m \u001b[38;5;241m+\u001b[39m \u001b[38;5;28mstr\u001b[39m(CL))\n",
      "\u001b[0;31mNameError\u001b[0m: name 'Wing_CD' is not defined"
     ]
    }
   ],
   "source": [
    "#SAMPLE CODE\n",
    "\n",
    "\n",
    "rho = 1.225\n",
    "mu = 1.789e-5\n",
    "V_inf = 60  #[m/s]\n",
    "alpha = 5   # angle of attack (only for Lifting line solver) [deg]\n",
    "a_0 = 2*np.pi\n",
    "Weight = 550*9.81  #[N]\n",
    "Bank_Angle = 0    #[deg]\n",
    "Flap = -3\n",
    "\n",
    "\n",
    "Area,Span,AR, WingData = GetWingData(\"wing_18.dat\")\n",
    "print(\"Area=\" + str(Area*2) + \"  \" + \"Span=\" + str(Span*2) + \"  \" + \"AR=\" + str(AR))\n",
    "\n",
    "CD,CL = Wing_CD(\"wing_18.dat\",\"Airfoil_Data.dat\",V_inf,rho,mu,Bank_Angle,Weight,Flap)\n",
    "print(\"CD=\" + str(CD) + \"  \" + \"CL=\" + str(CL))\n"
   ]
  },
  {
   "cell_type": "code",
   "execution_count": null,
   "id": "36a78a62-9ff3-41f1-a366-651d1e51f3b0",
   "metadata": {},
   "outputs": [],
   "source": []
  },
  {
   "cell_type": "code",
   "execution_count": null,
   "id": "465f9728-56c9-41e2-87ca-b96f905dec6f",
   "metadata": {},
   "outputs": [],
   "source": []
  }
 ],
 "metadata": {
  "kernelspec": {
   "display_name": "Python 3 (ipykernel)",
   "language": "python",
   "name": "python3"
  },
  "language_info": {
   "codemirror_mode": {
    "name": "ipython",
    "version": 3
   },
   "file_extension": ".py",
   "mimetype": "text/x-python",
   "name": "python",
   "nbconvert_exporter": "python",
   "pygments_lexer": "ipython3",
   "version": "3.10.12"
  }
 },
 "nbformat": 4,
 "nbformat_minor": 5
}
